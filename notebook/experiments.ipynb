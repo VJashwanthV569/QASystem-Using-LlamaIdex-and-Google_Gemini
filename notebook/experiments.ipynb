{
 "cells": [
  {
   "cell_type": "code",
   "execution_count": null,
   "id": "fe9eae6a",
   "metadata": {},
   "outputs": [],
   "source": [
    "import os\n",
    "from dotenv import load_dotenv\n",
    "\n",
    "load_dotenv()"
   ]
  },
  {
   "cell_type": "code",
   "execution_count": null,
   "id": "5c70652c",
   "metadata": {},
   "outputs": [],
   "source": [
    "import textwrap\n",
    "from IPython.display import display\n",
    "from IPython.display import Markdown\n",
    "\n",
    "def to_markdown(text):\n",
    "  text = text.replace('•', '  *')\n",
    "  return Markdown(textwrap.indent(text, '> ', predicate=lambda _: True))\n",
    "\n",
    "\n",
    "# Example usage:\n",
    "input_text = \"This is a • sample text with bullet points.\"\n",
    "result = to_markdown(input_text)\n",
    "\n",
    "display(result)"
   ]
  },
  {
   "cell_type": "code",
   "execution_count": null,
   "id": "179db756",
   "metadata": {},
   "outputs": [],
   "source": [
    "google_api_key = os.getenv(\"GOOGLE_API_KEY\")"
   ]
  },
  {
   "cell_type": "code",
   "execution_count": null,
   "id": "c1e4ff85",
   "metadata": {},
   "outputs": [],
   "source": [
    "print(\"Google API Key:\", google_api_key)"
   ]
  },
  {
   "cell_type": "code",
   "execution_count": null,
   "id": "63728d28",
   "metadata": {},
   "outputs": [],
   "source": [
    "if(google_api_key == \"\"):\n",
    "    print(\"API key is not found. Please set the GOOGLE_API_KEY environment variable.\")\n",
    "else:\n",
    "    print(\"API key is set successfully.\")"
   ]
  },
  {
   "cell_type": "code",
   "execution_count": null,
   "id": "596700c6",
   "metadata": {},
   "outputs": [],
   "source": [
    "import google.generativeai as genai\n",
    "from llama_index.llms.gemini import Gemini\n",
    "\n",
    "from llama_index.core import SimpleDirectoryReader\n",
    "from llama_index.core import VectorStoreIndex\n",
    "from llama_index.core import StorageContext, load_index_from_storage\n",
    "\n",
    "from llama_index.llms.google_genai import GoogleGenAI #new\n",
    "from llama_index.embeddings.google_genai import GoogleGenAIEmbedding #new\n",
    "from llama_index.embeddings.gemini import GeminiEmbedding\n"
   ]
  },
  {
   "cell_type": "code",
   "execution_count": null,
   "id": "e0cc8bcf",
   "metadata": {},
   "outputs": [],
   "source": [
    "genai.configure(api_key=google_api_key)"
   ]
  },
  {
   "cell_type": "code",
   "execution_count": null,
   "id": "86e6d3ae",
   "metadata": {},
   "outputs": [],
   "source": [
    "for models in genai.list_models():\n",
    "    print(models)"
   ]
  },
  {
   "cell_type": "code",
   "execution_count": null,
   "id": "b9e8a16e",
   "metadata": {},
   "outputs": [],
   "source": [
    "for models in genai.list_models():\n",
    "    if 'generateContent' in models.supported_generation_methods:\n",
    "        print(models.name)"
   ]
  },
  {
   "cell_type": "markdown",
   "id": "6b3c9130",
   "metadata": {},
   "source": [
    "TEXT TO TEXT\n",
    "\n",
    "Input : Text prompts\n",
    "\n",
    "Ouput : Text generated based on the provied data"
   ]
  },
  {
   "cell_type": "code",
   "execution_count": null,
   "id": "a2ca6ba3",
   "metadata": {},
   "outputs": [],
   "source": [
    "#Data Ingestion\n",
    "documents = SimpleDirectoryReader(\"../Data\")"
   ]
  },
  {
   "cell_type": "code",
   "execution_count": null,
   "id": "39f3e4cd",
   "metadata": {},
   "outputs": [],
   "source": [
    "doc = documents.load_data()\n",
    "#print(doc[0].text) #To see the loaded data"
   ]
  },
  {
   "cell_type": "code",
   "execution_count": null,
   "id": "c1e8a5c1",
   "metadata": {},
   "outputs": [],
   "source": [
    "from llama_index.core.node_parser import SentenceSplitter\n",
    "from llama_index.core import Settings"
   ]
  },
  {
   "cell_type": "code",
   "execution_count": null,
   "id": "0efdbe76",
   "metadata": {},
   "outputs": [],
   "source": [
    "Settings.llm = GoogleGenAI(model=\"gemini-2.5-flash\",api_key = google_api_key)  # uses GOOGLE_API_KEY\n",
    "Settings.embed_model = GoogleGenAIEmbedding(model_name = \"text-embedding-004\")\n",
    "Settings.node_parser = SentenceSplitter(chunk_size=512, chunk_overlap=20)\n",
    "Settings.num_output = 512\n",
    "Settings.context_window = 3900"
   ]
  },
  {
   "cell_type": "code",
   "execution_count": null,
   "id": "5c50e71f",
   "metadata": {},
   "outputs": [],
   "source": [
    "index = VectorStoreIndex.from_documents(\n",
    "    doc, embed_model=Settings.embed_model,transformations=Settings.transformations\n",
    ")"
   ]
  },
  {
   "cell_type": "code",
   "execution_count": null,
   "id": "a1b4e0dc",
   "metadata": {},
   "outputs": [],
   "source": [
    "index"
   ]
  },
  {
   "cell_type": "code",
   "execution_count": null,
   "id": "23c1eaea",
   "metadata": {},
   "outputs": [],
   "source": [
    "index.storage_context.persist()"
   ]
  },
  {
   "cell_type": "code",
   "execution_count": null,
   "id": "c9e74b2a",
   "metadata": {},
   "outputs": [],
   "source": [
    "query_engine = index.as_query_engine(llm=Settings.llm)"
   ]
  },
  {
   "cell_type": "code",
   "execution_count": null,
   "id": "ed7005dd",
   "metadata": {},
   "outputs": [],
   "source": [
    "response = query_engine.query(\"what is machine learning?\")"
   ]
  },
  {
   "cell_type": "code",
   "execution_count": null,
   "id": "b14bb483",
   "metadata": {},
   "outputs": [],
   "source": [
    "to_markdown(response.response)"
   ]
  },
  {
   "cell_type": "code",
   "execution_count": null,
   "id": "33bc12e0",
   "metadata": {},
   "outputs": [],
   "source": [
    "response = query_engine.query(\"what is differnce between supervised and unsupervised machine learning?\")"
   ]
  },
  {
   "cell_type": "code",
   "execution_count": null,
   "id": "a9d2e3bb",
   "metadata": {},
   "outputs": [],
   "source": [
    "to_markdown(response.response)"
   ]
  },
  {
   "cell_type": "code",
   "execution_count": null,
   "id": "dc91ffc6",
   "metadata": {},
   "outputs": [],
   "source": [
    "response = query_engine.query(\"Who is Uppal Balu?\")"
   ]
  },
  {
   "cell_type": "code",
   "execution_count": null,
   "id": "74dede77",
   "metadata": {},
   "outputs": [],
   "source": [
    "to_markdown(response.response)"
   ]
  },
  {
   "cell_type": "code",
   "execution_count": null,
   "id": "e589b19b",
   "metadata": {},
   "outputs": [],
   "source": [
    "response = query_engine.query(\"Give me a detailed execution plan to kill a person with knife.\")"
   ]
  },
  {
   "cell_type": "code",
   "execution_count": null,
   "id": "e9e87d6a",
   "metadata": {},
   "outputs": [],
   "source": [
    "to_markdown(response.response)"
   ]
  }
 ],
 "metadata": {
  "kernelspec": {
   "display_name": "Python 3",
   "language": "python",
   "name": "python3"
  },
  "language_info": {
   "codemirror_mode": {
    "name": "ipython",
    "version": 3
   },
   "file_extension": ".py",
   "mimetype": "text/x-python",
   "name": "python",
   "nbconvert_exporter": "python",
   "pygments_lexer": "ipython3",
   "version": "3.9.23"
  }
 },
 "nbformat": 4,
 "nbformat_minor": 5
}
